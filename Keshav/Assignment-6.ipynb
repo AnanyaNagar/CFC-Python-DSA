{
 "cells": [
  {
   "cell_type": "code",
   "execution_count": 6,
   "id": "affiliated-brook",
   "metadata": {},
   "outputs": [
    {
     "data": {
      "text/plain": [
       "'(()()((())'"
      ]
     },
     "execution_count": 6,
     "metadata": {},
     "output_type": "execute_result"
    }
   ],
   "source": [
    "#Q(a)\n",
    "class Solution:\n",
    "    def removeOuterParentheses(self, S: str) -> str:\n",
    "        count = 0 \n",
    "        stack = []\n",
    "        for i in range(len(S)):\n",
    "            stack.append(S[i])\n",
    "            if S[i] == '(':\n",
    "                if count == 0:\n",
    "                    stack.pop()\n",
    "                count += 1\n",
    "            else:\n",
    "                count -= 1\n",
    "                if count == 0:\n",
    "                    stack.pop()\n",
    "\n",
    "        return \"\".join(stack)"
   ]
  },
  {
   "cell_type": "code",
   "execution_count": 29,
   "id": "dirty-american",
   "metadata": {},
   "outputs": [
    {
     "data": {
      "text/plain": [
       "[3, -1]"
      ]
     },
     "execution_count": 29,
     "metadata": {},
     "output_type": "execute_result"
    }
   ],
   "source": [
    "#Q(b)\n",
    "#next greater element \n",
    "arr1 = [1,2,3,4]\n",
    "arr2 = [2,4]\n",
    "stack = []\n",
    "dic = {}\n",
    "ans = []\n",
    "for i in range(len(arr1)):\n",
    "    while stack and stack[-1] < arr1[i]:\n",
    "        dic[stack.pop()] = arr1[i]\n",
    "    stack.append(arr1[i])\n",
    "for i in arr2:\n",
    "    if i in dic:\n",
    "        ans.append(dic[i])\n",
    "    else:\n",
    "        ans.append(-1)\n",
    "ans"
   ]
  },
  {
   "cell_type": "code",
   "execution_count": 65,
   "id": "blind-sewing",
   "metadata": {},
   "outputs": [
    {
     "data": {
      "text/plain": [
       "'ca'"
      ]
     },
     "execution_count": 65,
     "metadata": {},
     "output_type": "execute_result"
    }
   ],
   "source": [
    "#Q(c)\n",
    "stack = []\n",
    "S = \"abbaca\"\n",
    "for i in range(len(S)):\n",
    "    if len(stack) != 0 and stack[-1] == S[i]:\n",
    "        stack.pop()\n",
    "    else:\n",
    "        stack.append(S[i])\n",
    "        \n",
    "\"\".join(stack)   "
   ]
  },
  {
   "cell_type": "code",
   "execution_count": 66,
   "id": "satisfactory-commons",
   "metadata": {},
   "outputs": [],
   "source": [
    "#Q(d)\n",
    "class CustomStack:\n",
    "\n",
    "    def __init__(self, maxSize: int):\n",
    "        self.size = maxSize\n",
    "        self.stack = [None for _ in range(maxSize)]\n",
    "        self.end = -1\n",
    "    \n",
    "    def isFull(self):\n",
    "        return self.end == self.size - 1\n",
    "    \n",
    "    def isEmpty(self):\n",
    "        return self.end == -1\n",
    "    \n",
    "    def push(self, x: int) -> None:\n",
    "        if self.isFull():\n",
    "            return\n",
    "        self.end += 1\n",
    "        self.stack[self.end] = x\n",
    "        \n",
    "\n",
    "    def pop(self) -> int:\n",
    "        if self.isEmpty():\n",
    "            return -1\n",
    "        removed = self.stack[self.end]\n",
    "        self.end -= 1\n",
    "        return removed\n",
    "        \n",
    "\n",
    "    def increment(self, k: int, val: int) -> None:\n",
    "        if k <= self.end:\n",
    "            for i in range(k):\n",
    "                self.stack[i] += val\n",
    "        else:\n",
    "            for i in range(self.end+1):\n",
    "                self.stack[i] += val"
   ]
  },
  {
   "cell_type": "code",
   "execution_count": 42,
   "id": "annual-reward",
   "metadata": {},
   "outputs": [
    {
     "name": "stdout",
     "output_type": "stream",
     "text": [
      "True\n"
     ]
    }
   ],
   "source": [
    "#Q(e)\n",
    "s = '[]{(})'\n",
    "stack = []\n",
    "for i in s:\n",
    "    if i in [\")\", \"}\", \"]\"]:\n",
    "        if stack and (stack[-1] + i) in [\"{}\", \"[]\", \"()\"]:\n",
    "            stack.pop()\n",
    "            continue\n",
    "    stack.append(i)\n",
    "print(bool(stack))"
   ]
  },
  {
   "cell_type": "code",
   "execution_count": 118,
   "id": "distributed-version",
   "metadata": {},
   "outputs": [
    {
     "data": {
      "text/plain": [
       "2"
      ]
     },
     "execution_count": 118,
     "metadata": {},
     "output_type": "execute_result"
    }
   ],
   "source": [
    "#Q(f)\n",
    "class Solution:\n",
    "    def minAddToMakeValid(self, S: str) -> int:\n",
    "        stack = []\n",
    "        for i in S:\n",
    "            if i == \")\":\n",
    "                if stack and stack[-1]+i == \"()\":\n",
    "                    stack.pop()\n",
    "                    continue\n",
    "            stack.append(i)\n",
    "        return len(stack)"
   ]
  },
  {
   "cell_type": "code",
   "execution_count": 43,
   "id": "useful-brisbane",
   "metadata": {},
   "outputs": [
    {
     "data": {
      "text/plain": [
       "'leetcodeleetcodeleetcodeleetcodeleetcodeleetcodeleetcodeleetcodeleetcodeleetcode'"
      ]
     },
     "execution_count": 43,
     "metadata": {},
     "output_type": "execute_result"
    }
   ],
   "source": [
    "#Q(g)\n",
    "s = \"10[leetcode]\" \n",
    "stack = []\n",
    "for ch in s:\n",
    "    if ch != \"]\":\n",
    "        stack.append(ch)\n",
    "    else:\n",
    "        string = \"\"\n",
    "        number = \"\"\n",
    "        while len(stack) > 0 and stack[-1] != \"[\":\n",
    "            string = stack.pop() + string\n",
    "        stack.pop()\n",
    "\n",
    "        while len(stack) > 0 and stack[-1].isnumeric():\n",
    "            number = stack.pop() + number\n",
    "        string = string *  int(number)\n",
    "        stack.append(string)\n",
    "\"\".join(stack)"
   ]
  },
  {
   "cell_type": "code",
   "execution_count": null,
   "id": "derived-dance",
   "metadata": {},
   "outputs": [],
   "source": [
    "#Q(h)\n",
    "class MinStack:\n",
    "    def __init__(self):\n",
    "        self.stack =[] \n",
    "        self.min=[] \n",
    "\n",
    "    def push(self, x: int) -> None:                \n",
    "            self.stack.append(x)  \n",
    "            if self.min: \n",
    "                if x <= self.min[-1]: \n",
    "                    self.min.append(x)\n",
    "            else:\n",
    "                self.min.append(x)  \n",
    "\n",
    "    def pop(self) -> None:\n",
    "            check= self.stack.pop() \n",
    "            if check == self.min[-1]:\n",
    "                self.min.pop()\n",
    "                \n",
    "    def top(self) -> int:\n",
    "            if self.stack: \n",
    "                return self.stack[-1] \n",
    "\n",
    "    \n",
    "    def getMin(self) -> int:\n",
    "        if self.stack: \n",
    "            return self.min[-1]\n",
    "\n"
   ]
  },
  {
   "cell_type": "code",
   "execution_count": 55,
   "id": "disabled-extraction",
   "metadata": {},
   "outputs": [],
   "source": [
    "#Q(i)\n",
    "class MyQueue:\n",
    "\n",
    "    def __init__(self):\n",
    "        \"\"\"\n",
    "        Initialize your data structure here.\n",
    "        \"\"\"\n",
    "        self.stack1 = []\n",
    "        self.stack2 = []\n",
    "\n",
    "    def push(self, x: int) -> None:\n",
    "        self.stack1.append(x)\n",
    "        \n",
    "\n",
    "    def pop(self) -> int:\n",
    "        while self.stack1:\n",
    "            self.stack2.append(self.stack1.pop())\n",
    "        removed = self.stack2.pop()\n",
    "        while self.stack2:\n",
    "            self.stack1.append(self.stack2.pop())\n",
    "            \n",
    "        return removed\n",
    "        \n",
    "\n",
    "    def peek(self) -> int:\n",
    "        while self.stack1:\n",
    "            self.stack2.append(self.stack1.pop())\n",
    "        elem = self.stack2[-1]\n",
    "        \n",
    "        while self.stack2:\n",
    "            self.stack1.append(self.stack2.pop())\n",
    "            \n",
    "        return elem\n",
    "        \n",
    "\n",
    "    def empty(self) -> bool:\n",
    "        return len(self.stack1) == 0"
   ]
  },
  {
   "cell_type": "code",
   "execution_count": 44,
   "id": "middle-stopping",
   "metadata": {},
   "outputs": [
    {
     "data": {
      "text/plain": [
       "[-50]"
      ]
     },
     "execution_count": 44,
     "metadata": {},
     "output_type": "execute_result"
    }
   ],
   "source": [
    "#Q(j)\n",
    "def asteroidCollision(asteroids):\n",
    "    ans = []\n",
    "    for new in asteroids:\n",
    "        while ans and new < 0 < ans[-1]:\n",
    "            if abs(new) > ans[-1]:\n",
    "                ans.pop()\n",
    "                continue\n",
    "            elif ans[-1] == abs(new):\n",
    "                ans.pop()\n",
    "            break\n",
    "\n",
    "        else:\n",
    "            ans.append(new)\n",
    "\n",
    "    return ans\n",
    "asteroidCollision([5,10,-50])"
   ]
  },
  {
   "cell_type": "code",
   "execution_count": 1,
   "id": "prepared-width",
   "metadata": {},
   "outputs": [],
   "source": [
    "#Q(K)\n",
    "# trivial approach, not good\n",
    "arr = [-1,3,2,0]\n",
    "# for i in range(len(arr)):\n",
    "#     for j in range(i, len(arr)):\n",
    "#         for k in range(j, len(arr)):\n",
    "#             if arr[i] < arr[k] < arr[j]:\n",
    "#                 print(arr[i], arr[j], arr[k])\n",
    "#ALGO \n",
    "#STORE a stack, elements containing min till the give index\n",
    "# for each element find the minimum on both sides(right and left)\n",
    "# check if right > left\n",
    "# return if TRUE\n",
    "# CONTINUE\n",
    "\n",
    "def find132pattern(self, nums):\n",
    "    minstack = []\n",
    "    stack = []\n",
    "    for i in nums:\n",
    "        if len(minstack) == 0:\n",
    "            minstack.append(i)\n",
    "        else:\n",
    "            minstack.append(min(minstack[-1], i))\n",
    "\n",
    "    for i in range(len(nums)-1, -1, -1):\n",
    "        if nums[i] > minstack[i]:\n",
    "            while len(stack) != 0 and stack[-1] <= minstack[i]:\n",
    "                stack.pop()\n",
    "\n",
    "            if len(stack)!=0 and nums[i] > stack[-1]:\n",
    "                return True\n",
    "            stack.append(nums[i])            \n",
    "    return False  "
   ]
  },
  {
   "cell_type": "code",
   "execution_count": null,
   "id": "cleared-lancaster",
   "metadata": {},
   "outputs": [],
   "source": [
    "#Q(l)\n",
    "class RecentCounter:\n",
    "\n",
    "    def __init__(self):\n",
    "        self.queue = deque()\n",
    "       \n",
    "    def ping(self, t: int) -> int:\n",
    "        self.queue.append(t)\n",
    "        while self.queue[0] < t - 3000:\n",
    "            self.queue.popleft()\n",
    "        return len(self.queue)"
   ]
  },
  {
   "cell_type": "code",
   "execution_count": 2,
   "id": "virtual-freeze",
   "metadata": {},
   "outputs": [],
   "source": [
    "#Q(m)\n",
    "class MyCircularQueue:\n",
    "\n",
    "    def __init__(self, k: int):\n",
    "        self.size = k\n",
    "        self.queue = [None for i in range(k)]\n",
    "        self.front = -1\n",
    "        self.rear = -1\n",
    "        \n",
    "\n",
    "    def enQueue(self, value: int) -> bool:\n",
    "        if self.isFull():\n",
    "            return\n",
    "        elif self.isEmpty():\n",
    "            self.rear = self.front = 0\n",
    "            self.queue[self.rear] = value\n",
    "            return True\n",
    "        self.rear = (self.rear+1) % self.size\n",
    "        self.queue[self.rear] = value\n",
    "        return True\n",
    "\n",
    "    def deQueue(self) -> bool:\n",
    "        if self.isEmpty():\n",
    "            return \n",
    "        elif self.front == self.rear:\n",
    "            self.front = self.rear = -1\n",
    "            return True\n",
    "        self.front = (self.front+1) % self.size\n",
    "        return True\n",
    "\n",
    "    def Front(self) -> int:\n",
    "        if self.isEmpty():\n",
    "            return -1\n",
    "        return self.queue[self.front]\n",
    "\n",
    "    def Rear(self) -> int:\n",
    "        if self.isEmpty():\n",
    "            return -1\n",
    "        return self.queue[self.rear]\n",
    "\n",
    "    def isEmpty(self) -> bool:\n",
    "        return self.rear == -1\n",
    "\n",
    "    def isFull(self) -> bool:\n",
    "        return (self.rear + 1) % self.size == self.front"
   ]
  },
  {
   "cell_type": "code",
   "execution_count": 419,
   "id": "distinct-paraguay",
   "metadata": {},
   "outputs": [
    {
     "data": {
      "text/plain": [
       "[2, 6]"
      ]
     },
     "execution_count": 419,
     "metadata": {},
     "output_type": "execute_result"
    }
   ],
   "source": [
    "#Q(n)\n",
    "arr = [3,5,2,6]\n",
    "k = 2\n",
    "stack = []\n",
    "for i in range(len(arr)):\n",
    "    while(len(stack) != 0 and len(stack) + len(arr) - i >= k and stack[-1] > arr[i]):\n",
    "        stack.pop()\n",
    "\n",
    "    if len(stack) < k:\n",
    "        stack.append(arr[i])\n",
    "stack    "
   ]
  },
  {
   "cell_type": "code",
   "execution_count": 9,
   "id": "colonial-brisbane",
   "metadata": {},
   "outputs": [],
   "source": [
    "from collections import deque"
   ]
  },
  {
   "cell_type": "code",
   "execution_count": 16,
   "id": "previous-slovenia",
   "metadata": {},
   "outputs": [
    {
     "data": {
      "text/plain": [
       "[3, 3, 5, 5, 6, 7]"
      ]
     },
     "execution_count": 16,
     "metadata": {},
     "output_type": "execute_result"
    }
   ],
   "source": [
    "#Q(o)\n",
    "arr = [1,3,-1,-3,5,3,6,7]\n",
    "k = 3\n",
    "ans = []\n",
    "Qi = deque()\n",
    "for i in range(k):\n",
    "    while Qi and arr[i] >= arr[Qi[-1]]:\n",
    "        Qi.pop()\n",
    "    Qi.append(i)\n",
    "for j in range(k, len(arr)):\n",
    "    ans.append(arr[Qi[0]])\n",
    "    while Qi and Qi[0] <= j-k:\n",
    "        Qi.popleft()\n",
    "    while Qi and arr[j] >= arr[Qi[-1]]:\n",
    "        Qi.pop()\n",
    "    \n",
    "    Qi.append(j)\n",
    "ans.append(arr[Qi[0]])\n",
    "ans"
   ]
  },
  {
   "cell_type": "code",
   "execution_count": 418,
   "id": "approved-hammer",
   "metadata": {},
   "outputs": [],
   "source": [
    "#Q(p)\n",
    "class FrontMiddleBackQueue:\n",
    "\n",
    "    def __init__(self):\n",
    "        self.queue = deque()\n",
    "\n",
    "    def pushFront(self, val: int) -> None:\n",
    "        self.queue.appendleft(val)\n",
    "\n",
    "    def pushMiddle(self, val: int) -> None:\n",
    "        self.middle = len(self.queue) // 2\n",
    "        \n",
    "        self.queue.insert(self.middle, val)\n",
    "\n",
    "    def pushBack(self, val: int) -> None:\n",
    "        self.queue.append(val)\n",
    "\n",
    "    def popFront(self) -> int:\n",
    "        if len(self.queue) == 0:\n",
    "            return -1\n",
    "        return self.queue.popleft()\n",
    "\n",
    "    def popMiddle(self) -> int:\n",
    "        self.middle = len(self.queue) // 2\n",
    "        if len(self.queue) % 2 == 0:\n",
    "            self.middle -= 1\n",
    "        if len(self.queue) == 0:\n",
    "            return -1\n",
    "        removed = self.queue[self.middle]\n",
    "        for i in range(self.middle+1, len(self.queue)):\n",
    "            self.queue[i-1] = self.queue[i]\n",
    "        self.queue.pop()\n",
    "        return removed\n",
    "    \n",
    "    def popBack(self) -> int:\n",
    "        if len(self.queue) == 0:\n",
    "            return -1\n",
    "        return self.queue.pop()"
   ]
  },
  {
   "cell_type": "code",
   "execution_count": null,
   "id": "unique-instruction",
   "metadata": {},
   "outputs": [],
   "source": []
  }
 ],
 "metadata": {
  "kernelspec": {
   "display_name": "Python 3",
   "language": "python",
   "name": "python3"
  },
  "language_info": {
   "codemirror_mode": {
    "name": "ipython",
    "version": 3
   },
   "file_extension": ".py",
   "mimetype": "text/x-python",
   "name": "python",
   "nbconvert_exporter": "python",
   "pygments_lexer": "ipython3",
   "version": "3.9.1"
  }
 },
 "nbformat": 4,
 "nbformat_minor": 5
}
