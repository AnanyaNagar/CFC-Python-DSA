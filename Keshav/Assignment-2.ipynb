{
 "cells": [
  {
   "cell_type": "code",
   "execution_count": 1,
   "id": "meaningful-blind",
   "metadata": {},
   "outputs": [
    {
     "data": {
      "text/plain": [
       "144"
      ]
     },
     "execution_count": 1,
     "metadata": {},
     "output_type": "execute_result"
    }
   ],
   "source": [
    "#Q1\n",
    "def deci2oct(num):\n",
    "    base = 8\n",
    "    place = 1\n",
    "    res = 0\n",
    "    while(num):\n",
    "        ans = num % base\n",
    "        res += place * ans\n",
    "        place *= 10\n",
    "        num = num // base\n",
    "    return res\n",
    "deci2oct(100)"
   ]
  },
  {
   "cell_type": "code",
   "execution_count": 2,
   "id": "short-terrace",
   "metadata": {},
   "outputs": [
    {
     "name": "stdin",
     "output_type": "stream",
     "text": [
      " 4\n",
      " 3\n",
      " *\n"
     ]
    },
    {
     "name": "stdout",
     "output_type": "stream",
     "text": [
      "12\n"
     ]
    }
   ],
   "source": [
    "#Q2\n",
    "n1 = int(input())\n",
    "n2 = int(input())\n",
    "ch = input()\n",
    "\n",
    "if ch == '*':\n",
    "    print(n1*n2)\n",
    "elif ch == '/':\n",
    "    print(n1/n2)\n",
    "elif ch == '%':\n",
    "    print(n1%n2)\n",
    "elif ch == '+':\n",
    "    print(n1+n2)\n",
    "elif ch == '-':\n",
    "    print(n1-n2)\n",
    "else:\n",
    "    print('unsupported operand.....')"
   ]
  },
  {
   "cell_type": "code",
   "execution_count": 6,
   "id": "educational-poster",
   "metadata": {},
   "outputs": [
    {
     "name": "stdin",
     "output_type": "stream",
     "text": [
      " e\n"
     ]
    },
    {
     "name": "stdout",
     "output_type": "stream",
     "text": [
      "LowerCase\n"
     ]
    }
   ],
   "source": [
    "#Q3\n",
    "ch = input()\n",
    "if ch.isupper():\n",
    "    print(\"Uppercase\")\n",
    "elif ch.islower():\n",
    "    print(\"LowerCase\")\n",
    "else:\n",
    "    print('unsupported type.....')"
   ]
  },
  {
   "cell_type": "code",
   "execution_count": 16,
   "id": "cellular-massage",
   "metadata": {},
   "outputs": [
    {
     "name": "stdout",
     "output_type": "stream",
     "text": [
      "50183\n"
     ]
    }
   ],
   "source": [
    "#Q4\n",
    "#reverse a number\n",
    "n = 38105\n",
    "res = 0\n",
    "while n:\n",
    "    digit = n % 10\n",
    "    res = res * 10 + digit\n",
    "    n //= 10\n",
    "print(res)"
   ]
  },
  {
   "cell_type": "code",
   "execution_count": 43,
   "id": "respiratory-walter",
   "metadata": {},
   "outputs": [
    {
     "name": "stdout",
     "output_type": "stream",
     "text": [
      "[4, 1, 5, 3, 2]\n"
     ]
    }
   ],
   "source": [
    "#Q5\n",
    "#valid input\n",
    "n = \"25413\"\n",
    "for i in range(1,len(n) + 1):\n",
    "    if str(i) not in n:\n",
    "        print(\"wrong input\")\n",
    "        break      \n",
    "res = [0]*len(n)\n",
    "for i in range(len(res)):\n",
    "    res[int(n[i])-1] = i+1\n",
    "print(res)"
   ]
  },
  {
   "cell_type": "code",
   "execution_count": 45,
   "id": "western-halifax",
   "metadata": {},
   "outputs": [
    {
     "name": "stdin",
     "output_type": "stream",
     "text": [
      " 16\n",
      " 14\n"
     ]
    },
    {
     "data": {
      "text/plain": [
       "2"
      ]
     },
     "execution_count": 45,
     "metadata": {},
     "output_type": "execute_result"
    }
   ],
   "source": [
    "#Q6\n",
    "a = int(input())\n",
    "b = int(input())\n",
    "def gcd(a,b):\n",
    "    if b == 0:\n",
    "        return a\n",
    "    return gcd(b, a % b)\n",
    "gcd(a,b)"
   ]
  },
  {
   "cell_type": "code",
   "execution_count": 66,
   "id": "flush-skating",
   "metadata": {},
   "outputs": [
    {
     "name": "stdin",
     "output_type": "stream",
     "text": [
      " 4\n",
      " 2\n"
     ]
    },
    {
     "data": {
      "text/plain": [
       "4"
      ]
     },
     "execution_count": 66,
     "metadata": {},
     "output_type": "execute_result"
    }
   ],
   "source": [
    "#Q7\n",
    "a = int(input())\n",
    "b = int(input())\n",
    "def lcm(a,b):\n",
    "    return int((a*b)/gcd(a,b))\n",
    "lcm(a,b)"
   ]
  },
  {
   "cell_type": "code",
   "execution_count": 68,
   "id": "black-praise",
   "metadata": {},
   "outputs": [
    {
     "name": "stdin",
     "output_type": "stream",
     "text": [
      " 5, 45, 23, 63, 27, 80, 15, 2, 65, 30\n"
     ]
    },
    {
     "data": {
      "text/plain": [
       "6"
      ]
     },
     "execution_count": 68,
     "metadata": {},
     "output_type": "execute_result"
    }
   ],
   "source": [
    "#Q8\n",
    "arr = list(map(int, input().split(',')))\n",
    "count = 0\n",
    "for i in arr:\n",
    "    if i % 5 == 0:\n",
    "        count += 1\n",
    "count"
   ]
  },
  {
   "cell_type": "code",
   "execution_count": 94,
   "id": "christian-identifier",
   "metadata": {},
   "outputs": [
    {
     "data": {
      "text/plain": [
       "5"
      ]
     },
     "execution_count": 94,
     "metadata": {},
     "output_type": "execute_result"
    }
   ],
   "source": [
    "#Q9\n",
    "def prime_count(arr):\n",
    "    count = 0\n",
    "    for i in arr:\n",
    "        flag = True\n",
    "        for j in range(2,int(i**0.5) + 1):\n",
    "            if i % j == 0:\n",
    "                flag = False\n",
    "                break\n",
    "        if flag:\n",
    "            count += 1\n",
    "    return count\n",
    "prime_count([2,29,3,4,5,7,8])"
   ]
  },
  {
   "cell_type": "code",
   "execution_count": 46,
   "id": "enabling-stake",
   "metadata": {},
   "outputs": [
    {
     "name": "stdout",
     "output_type": "stream",
     "text": [
      "not sorted\n"
     ]
    }
   ],
   "source": [
    "#Q10\n",
    "arr = [5,4,3]\n",
    "for i in range(1,len(arr)):\n",
    "    if arr[i-1]>=arr[i]:\n",
    "        print(\"not sorted\")\n",
    "        break"
   ]
  },
  {
   "cell_type": "code",
   "execution_count": 47,
   "id": "chronic-bumper",
   "metadata": {},
   "outputs": [
    {
     "data": {
      "text/plain": [
       "[0, 0, 0, 0, 0, 0, 1, 1, 1, 1, 1, 1, 1]"
      ]
     },
     "execution_count": 47,
     "metadata": {},
     "output_type": "execute_result"
    }
   ],
   "source": [
    "#Q11\n",
    "arr = [1,0,1,1,1,0,0,0,1,0,0,1,1]\n",
    "sorted_arr=[1]*len(arr)\n",
    "count = 0\n",
    "for i in arr:\n",
    "    if i == 0:\n",
    "        count += 1\n",
    "for i in range(count):\n",
    "    sorted_arr[i] = 0\n",
    "sorted_arr"
   ]
  },
  {
   "cell_type": "code",
   "execution_count": 49,
   "id": "artificial-switch",
   "metadata": {},
   "outputs": [
    {
     "name": "stdout",
     "output_type": "stream",
     "text": [
      "[8, 6, 12, 18, 3, 5, 13, 5]\n"
     ]
    }
   ],
   "source": [
    "#Q12\n",
    "arr = [3,8,5,13,6,12,18,5]\n",
    "j = 0\n",
    "for i in range(len(arr)):\n",
    "    if arr[i] % 2 == 0:\n",
    "        arr[j],arr[i] = arr[i], arr[j]\n",
    "        j += 1\n",
    "print(arr)       "
   ]
  },
  {
   "cell_type": "code",
   "execution_count": 50,
   "id": "united-onion",
   "metadata": {},
   "outputs": [
    {
     "data": {
      "text/plain": [
       "[0, 332, 454, 43, 552, 23, 3]"
      ]
     },
     "execution_count": 50,
     "metadata": {},
     "output_type": "execute_result"
    }
   ],
   "source": [
    "#Q13\n",
    "arr = [3,23,552,43,454,332,0]\n",
    "n = len(arr) \n",
    "for i in range(n//2):\n",
    "    arr[i], arr[n - i - 1] = arr[n - i - 1], arr[i]\n",
    "arr"
   ]
  },
  {
   "cell_type": "code",
   "execution_count": 54,
   "id": "growing-hampshire",
   "metadata": {},
   "outputs": [
    {
     "name": "stdout",
     "output_type": "stream",
     "text": [
      "-1 9\n",
      "1 7\n",
      "2 6\n",
      "3 5\n"
     ]
    }
   ],
   "source": [
    "#Q14\n",
    "def find_pair(arr, target):\n",
    "    arr.sort()\n",
    "    start = 0\n",
    "    end = len(arr) -1\n",
    "    while start < end:\n",
    "        _sum = arr[start] + arr[end]\n",
    "        if _sum == target:\n",
    "            print(arr[start], arr[end])\n",
    "            start += 1\n",
    "            end -= 1\n",
    "        elif _sum > target:\n",
    "            end -= 1\n",
    "        else:\n",
    "            start += 1\n",
    "arr = [3, 1, 11, 2, 9, 7, 4, 5, -1, 13, 6]       \n",
    "find_pair(arr,8)"
   ]
  },
  {
   "cell_type": "code",
   "execution_count": 71,
   "id": "further-soundtrack",
   "metadata": {},
   "outputs": [
    {
     "name": "stdout",
     "output_type": "stream",
     "text": [
      "-1 1 9\n",
      "-1 3 7\n",
      "1 2 6\n",
      "1 3 5\n",
      "[-1, 1, 2, 3, 5, 6, 7, 9]\n"
     ]
    }
   ],
   "source": [
    "#Q15\n",
    "def find_triplet(arr,target):\n",
    "    arr.sort()\n",
    "    for i in range(len(arr)):\n",
    "        start = i+1\n",
    "        end = len(arr) - 1\n",
    "        while start < end:\n",
    "            _sum = arr[start] + arr[end] + arr[i]\n",
    "            if _sum == target:\n",
    "                print(arr[i], arr[start], arr[end])\n",
    "                start += 1\n",
    "                end -= 1\n",
    "            elif _sum > target:\n",
    "                end -= 1\n",
    "            else:\n",
    "                start += 1\n",
    "arr = [3, 1, 2, 9, 7, 5, -1, 6]\n",
    "find_triplet(arr,9)\n",
    "print(arr)"
   ]
  },
  {
   "cell_type": "code",
   "execution_count": 72,
   "id": "administrative-privacy",
   "metadata": {},
   "outputs": [
    {
     "name": "stdout",
     "output_type": "stream",
     "text": [
      "['a', 'b', 'c']\n",
      "['a', 'b']\n",
      "['a', 'c']\n",
      "['a']\n",
      "['b', 'c']\n",
      "['b']\n",
      "['c']\n",
      "[]\n"
     ]
    }
   ],
   "source": [
    "def arr_subsets(unproc, proc=[], index = 0):\n",
    "    if index > len(unproc)-1:\n",
    "        print(proc)\n",
    "        return\n",
    "    proc.append(unproc[index])\n",
    "    arr_subsets(unproc, proc, index+1)\n",
    "    proc.pop()\n",
    "    arr_subsets(unproc,proc, index+1)\n",
    "arr_subsets(\"abc\")"
   ]
  },
  {
   "cell_type": "code",
   "execution_count": 80,
   "id": "parliamentary-omaha",
   "metadata": {},
   "outputs": [
    {
     "data": {
      "text/plain": [
       "'keerap'"
      ]
     },
     "execution_count": 80,
     "metadata": {},
     "output_type": "execute_result"
    }
   ],
   "source": [
    "def reverse1(S):\n",
    "    if len(S) <= 1:\n",
    "        return S\n",
    "    return reverse1(S[1:])+S[0]\n",
    "reverse1(\"pareek\")"
   ]
  },
  {
   "cell_type": "code",
   "execution_count": 84,
   "id": "cathedral-summer",
   "metadata": {},
   "outputs": [
    {
     "name": "stdout",
     "output_type": "stream",
     "text": [
      "[1, 2, 3]\n",
      "[1, 3, 2]\n",
      "[2, 1, 3]\n",
      "[2, 3, 1]\n",
      "[3, 2, 1]\n",
      "[3, 1, 2]\n"
     ]
    }
   ],
   "source": [
    "#Q17\n",
    "def permutations(arr,index=0):\n",
    "    if index >= len(arr):\n",
    "        print(arr)\n",
    "    for i in range(index, len(arr)):\n",
    "        arr[i], arr[index] = arr[index], arr[i]\n",
    "        permutations(arr,index+1)\n",
    "        arr[i], arr[index] = arr[index], arr[i]\n",
    "permutations([1,2,3])"
   ]
  },
  {
   "cell_type": "code",
   "execution_count": null,
   "id": "extensive-prophet",
   "metadata": {},
   "outputs": [],
   "source": []
  }
 ],
 "metadata": {
  "kernelspec": {
   "display_name": "Python 3",
   "language": "python",
   "name": "python3"
  },
  "language_info": {
   "codemirror_mode": {
    "name": "ipython",
    "version": 3
   },
   "file_extension": ".py",
   "mimetype": "text/x-python",
   "name": "python",
   "nbconvert_exporter": "python",
   "pygments_lexer": "ipython3",
   "version": "3.9.1"
  }
 },
 "nbformat": 4,
 "nbformat_minor": 5
}
