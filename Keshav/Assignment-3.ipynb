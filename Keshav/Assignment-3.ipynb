{
 "cells": [
  {
   "cell_type": "code",
   "execution_count": 7,
   "id": "based-provincial",
   "metadata": {},
   "outputs": [
    {
     "name": "stdin",
     "output_type": "stream",
     "text": [
      " 4\n",
      " 4\n",
      " 11 12 13 14\n",
      " 21 22 23 24\n",
      " 31 32 33 34\n",
      " 41 42 43 44\n"
     ]
    }
   ],
   "source": [
    "rows = int(input())\n",
    "cols = int(input())\n",
    "matrix = [[int(x) for x in input().split()] for _ in range(rows)]"
   ]
  },
  {
   "cell_type": "code",
   "execution_count": 13,
   "id": "burning-section",
   "metadata": {},
   "outputs": [
    {
     "name": "stdout",
     "output_type": "stream",
     "text": [
      "11 21 31 41 44 43 42 41 13 23 33 43 44 43 42 41 "
     ]
    }
   ],
   "source": [
    "#Q1\n",
    "for col in range(cols):\n",
    "    if col % 2 == 0:\n",
    "        for row in range(rows):\n",
    "            print(matrix[row][col],end = \" \")\n",
    "    else:\n",
    "        for col in range(cols-1,-1,-1):\n",
    "            print(matrix[row][col], end = \" \")"
   ]
  },
  {
   "cell_type": "code",
   "execution_count": 14,
   "id": "sonic-combining",
   "metadata": {},
   "outputs": [
    {
     "name": "stdout",
     "output_type": "stream",
     "text": [
      "11 12 13 14 24 23 22 21 31 32 33 34 44 43 42 41 "
     ]
    }
   ],
   "source": [
    "#Q3\n",
    "for row in range(rows):\n",
    "    if col % 2 == 0:\n",
    "        for col in range(cols):\n",
    "            print(matrix[row][col],end = \" \")\n",
    "    else:\n",
    "        for col in range(cols-1,-1,-1):\n",
    "            print(matrix[row][col], end = \" \")"
   ]
  },
  {
   "cell_type": "code",
   "execution_count": 16,
   "id": "double-improvement",
   "metadata": {},
   "outputs": [
    {
     "name": "stdout",
     "output_type": "stream",
     "text": [
      "*       * * * * * \n",
      "*       *         \n",
      "*       *         \n",
      "*       *         \n",
      "* * * * * * * * * \n",
      "        *       * \n",
      "        *       * \n",
      "        *       * \n",
      "* * * * *       * \n"
     ]
    }
   ],
   "source": [
    "#Q3\n",
    "N = 9\n",
    "for i in range(N):\n",
    "    for j in range(N):\n",
    "        if i == N//2 or j == N//2:\n",
    "            print(\"*\", end = \" \")\n",
    "        elif (j == 0 and i <= N//2) or (j == N - 1 and i >= N//2) or (i == 0 and j >= N//2) or (i == N - 1 and j <= N//2):\n",
    "            print(\"*\", end = \" \")\n",
    "        else:\n",
    "            print(\" \", end = \" \")\n",
    "    print()"
   ]
  },
  {
   "cell_type": "code",
   "execution_count": 19,
   "id": "banned-budapest",
   "metadata": {},
   "outputs": [
    {
     "name": "stdout",
     "output_type": "stream",
     "text": [
      "11 21 31 41 42 43 44 34 24 14 13 12 22 32 33 23 "
     ]
    }
   ],
   "source": [
    "#Q4\n",
    "top = 0\n",
    "bottom = rows - 1\n",
    "left = 0\n",
    "right = cols - 1\n",
    "direction = 0 \n",
    "while left <= right and top <= bottom:\n",
    "    if direction == 0:\n",
    "        for i in range(top, bottom+1):\n",
    "            print(matrix[i][left], end = \" \")\n",
    "        left += 1\n",
    "        direction += 1\n",
    "    if direction == 1:\n",
    "        for i in range(left, right+1):\n",
    "            print(matrix[bottom][i], end = \" \")\n",
    "        bottom -= 1\n",
    "        direction += 1\n",
    "    if direction == 2:\n",
    "        for i in range(bottom, top-1, -1):\n",
    "            print(matrix[i][right], end = \" \")\n",
    "        right -= 1\n",
    "        direction += 1\n",
    "    if direction == 3:\n",
    "        for i in range(right, left-1, -1):\n",
    "            print(matrix[top][i], end = \" \")\n",
    "        top += 1\n",
    "        direction = 0"
   ]
  },
  {
   "cell_type": "code",
   "execution_count": 17,
   "id": "adopted-overall",
   "metadata": {},
   "outputs": [
    {
     "name": "stdout",
     "output_type": "stream",
     "text": [
      "11 12 13 14 24 34 44 43 42 41 31 21 22 23 33 32 "
     ]
    }
   ],
   "source": [
    "#Q5\n",
    "top = 0\n",
    "bottom = rows - 1\n",
    "left = 0\n",
    "right = cols - 1\n",
    "direction = 0\n",
    "while(top <= bottom and left <= right):\n",
    "    if direction == 0:\n",
    "        for i in range(left, right + 1):\n",
    "            print(matrix[top][i], end = \" \")\n",
    "        top += 1\n",
    "        direction += 1\n",
    "    if direction == 1:\n",
    "        for i in range(top, bottom + 1):\n",
    "            print(matrix[i][right],end = \" \")\n",
    "        right -= 1\n",
    "        direction += 1\n",
    "    if direction == 2:\n",
    "        for i in range(right,left - 1, -1):\n",
    "            print(matrix[bottom][i], end = \" \")\n",
    "        bottom -= 1\n",
    "        direction += 1\n",
    "        \n",
    "    if direction == 3:\n",
    "        for i in range(bottom, top - 1, -1):\n",
    "            print(matrix[i][left], end = \" \")\n",
    "        left += 1\n",
    "        direction = 0"
   ]
  },
  {
   "cell_type": "code",
   "execution_count": 21,
   "id": "broadband-messaging",
   "metadata": {},
   "outputs": [
    {
     "name": "stdin",
     "output_type": "stream",
     "text": [
      " 4\n",
      " 3 5 0 7\n",
      " 4\n",
      " 9 0 2 8\n"
     ]
    },
    {
     "data": {
      "text/plain": [
       "[1, 2, 5, 3, 5]"
      ]
     },
     "execution_count": 21,
     "metadata": {},
     "output_type": "execute_result"
    }
   ],
   "source": [
    "#Q6\n",
    "n = int(input())\n",
    "arr1 = input().split()\n",
    "m = int(input())\n",
    "arr2 = input().split()\n",
    "def array_sum(arr1,arr2):\n",
    "    return [int(x) for x in str(int(\"\".join(arr1)) + int(\"\".join(arr2)))]\n",
    "array_sum(arr1,arr2)"
   ]
  },
  {
   "cell_type": "code",
   "execution_count": 24,
   "id": "intense-shannon",
   "metadata": {},
   "outputs": [
    {
     "name": "stdin",
     "output_type": "stream",
     "text": [
      " 5 3\n",
      " 1 3 1 4 5\n"
     ]
    },
    {
     "name": "stdout",
     "output_type": "stream",
     "text": [
      "3 4 5 "
     ]
    }
   ],
   "source": [
    "#Q7\n",
    "n , k = list(map(int, input().split()))\n",
    "fighters = list(map(int, input().split()))\n",
    "for i in range(n - k + 1):\n",
    "    max_fighter = max(fighters[i:i+k])\n",
    "    print(max_fighter, end = \" \")"
   ]
  },
  {
   "cell_type": "code",
   "execution_count": 27,
   "id": "fossil-building",
   "metadata": {},
   "outputs": [
    {
     "name": "stdin",
     "output_type": "stream",
     "text": [
      " 1 2 3 1 2 4 1\n",
      " 2 1 3 1 5 2 2\n"
     ]
    },
    {
     "name": "stdout",
     "output_type": "stream",
     "text": [
      "[1, 2, 3, 1, 2]\n"
     ]
    }
   ],
   "source": [
    "#Q8\n",
    "arr1 = list(map(int, input().split()))\n",
    "arr2 = list(map(int, input().split()))\n",
    "intersect = []\n",
    "for i in range(len(arr1)):\n",
    "    if arr1[i] in arr2:\n",
    "        intersect.append(arr1[i])\n",
    "        arr2[i] = None    \n",
    "print(intersect)"
   ]
  },
  {
   "cell_type": "code",
   "execution_count": 28,
   "id": "protected-queensland",
   "metadata": {},
   "outputs": [
    {
     "name": "stdin",
     "output_type": "stream",
     "text": [
      " 7 4\n",
      " 2 5 -1 7 -3 -1 -2\n"
     ]
    },
    {
     "name": "stdout",
     "output_type": "stream",
     "text": [
      "18\n"
     ]
    }
   ],
   "source": [
    "#Q9\n",
    "n, k = [int(x) for x in input().split()]\n",
    "arr = [int(x) for x in input().split()]\n",
    "res = 0\n",
    "for i in range(n - k + 1):\n",
    "    res += max(arr[i:i + k]) + min(arr[i:i + k])\n",
    "print(res)"
   ]
  },
  {
   "cell_type": "code",
   "execution_count": 29,
   "id": "contrary-proposition",
   "metadata": {},
   "outputs": [
    {
     "name": "stdin",
     "output_type": "stream",
     "text": [
      " abcg\n"
     ]
    },
    {
     "name": "stdout",
     "output_type": "stream",
     "text": [
      "badf"
     ]
    }
   ],
   "source": [
    "#Q 10\n",
    "S = input()\n",
    "for i in range(len(S)):\n",
    "    if (i+1) % 2 == 0:\n",
    "        print(chr(ord(S[i]) - 1),end = \"\")\n",
    "    else:\n",
    "        print(chr(ord(S[i]) + 1),end = \"\")"
   ]
  },
  {
   "cell_type": "code",
   "execution_count": 33,
   "id": "collectible-roommate",
   "metadata": {},
   "outputs": [
    {
     "name": "stdin",
     "output_type": "stream",
     "text": [
      " abcDEasW\n"
     ]
    },
    {
     "name": "stdout",
     "output_type": "stream",
     "text": [
      "ABCdeASw"
     ]
    }
   ],
   "source": [
    "#Q11\n",
    "S = input()\n",
    "def Toggler(S):\n",
    "    for i in S:\n",
    "        if ord(i) >= 97:\n",
    "            print(chr(ord(i) - 32), end = \"\")\n",
    "        else:\n",
    "            print(chr(ord(i) + 32), end = \"\")\n",
    "Toggler(S)    "
   ]
  },
  {
   "cell_type": "code",
   "execution_count": 34,
   "id": "warming-preservation",
   "metadata": {},
   "outputs": [
    {
     "name": "stdin",
     "output_type": "stream",
     "text": [
      " acb\n"
     ]
    },
    {
     "name": "stdout",
     "output_type": "stream",
     "text": [
      "a2c-1b"
     ]
    }
   ],
   "source": [
    "#Q12\n",
    "S = input()\n",
    "for i in range(len(S)):\n",
    "    print(S[i], end = \"\")\n",
    "    if i < len(S) - 1:\n",
    "        diff = ord(S[i + 1]) - ord(S[i])\n",
    "        print(diff, end = \"\")\n",
    "    \n",
    "    "
   ]
  },
  {
   "cell_type": "code",
   "execution_count": 2,
   "id": "together-wellington",
   "metadata": {},
   "outputs": [
    {
     "name": "stdin",
     "output_type": "stream",
     "text": [
      " 1 abba\n"
     ]
    },
    {
     "name": "stdout",
     "output_type": "stream",
     "text": [
      "2\n"
     ]
    }
   ],
   "source": [
    "#Q13\n",
    "k, s = input().split()\n",
    "k = int(k)\n",
    "count = 1\n",
    "for i in range(1,len(s)):\n",
    "    if not k:\n",
    "        break\n",
    "    count += 1\n",
    "    if not s[i] == s[i-1]:\n",
    "        k -= 1\n",
    "print(count)"
   ]
  },
  {
   "cell_type": "code",
   "execution_count": null,
   "id": "nutritional-vintage",
   "metadata": {},
   "outputs": [],
   "source": []
  },
  {
   "cell_type": "code",
   "execution_count": null,
   "id": "returning-tender",
   "metadata": {},
   "outputs": [],
   "source": []
  },
  {
   "cell_type": "code",
   "execution_count": null,
   "id": "prompt-walker",
   "metadata": {},
   "outputs": [],
   "source": []
  }
 ],
 "metadata": {
  "kernelspec": {
   "display_name": "Python 3",
   "language": "python",
   "name": "python3"
  },
  "language_info": {
   "codemirror_mode": {
    "name": "ipython",
    "version": 3
   },
   "file_extension": ".py",
   "mimetype": "text/x-python",
   "name": "python",
   "nbconvert_exporter": "python",
   "pygments_lexer": "ipython3",
   "version": "3.9.1"
  }
 },
 "nbformat": 4,
 "nbformat_minor": 5
}
