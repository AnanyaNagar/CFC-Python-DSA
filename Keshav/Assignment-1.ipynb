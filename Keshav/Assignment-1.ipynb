{
 "cells": [
  {
   "cell_type": "code",
   "execution_count": 22,
   "id": "toxic-medicine",
   "metadata": {},
   "outputs": [
    {
     "name": "stdout",
     "output_type": "stream",
     "text": [
      "2\n",
      "6\n",
      "14\n",
      "26\n",
      "42\n",
      "62\n",
      "86\n"
     ]
    }
   ],
   "source": [
    "#Q(4)\n",
    "j = 0\n",
    "k = 0\n",
    "for i in range(2,100,2):\n",
    "    if not j:\n",
    "        print(i)\n",
    "        j = k + 2\n",
    "        k = j\n",
    "    j -= 1"
   ]
  },
  {
   "cell_type": "code",
   "execution_count": 34,
   "id": "selected-router",
   "metadata": {},
   "outputs": [
    {
     "name": "stdout",
     "output_type": "stream",
     "text": [
      "4\n"
     ]
    }
   ],
   "source": [
    "#Q(5)\n",
    "n = 3464\n",
    "count = 0\n",
    "if n == 0:\n",
    "    count += 1\n",
    "while n:\n",
    "    digit = n%10\n",
    "    n //= 10\n",
    "    count += 1\n",
    "print(count)   "
   ]
  },
  {
   "cell_type": "code",
   "execution_count": 42,
   "id": "veterinary-schedule",
   "metadata": {},
   "outputs": [
    {
     "name": "stdout",
     "output_type": "stream",
     "text": [
      "5379\n"
     ]
    }
   ],
   "source": [
    "#Q(6)\n",
    "n = 9735\n",
    "place = 1\n",
    "reverse = 0\n",
    "while n:\n",
    "    digit = n%10\n",
    "    reverse = reverse * 10 + digit\n",
    "    place *= 10\n",
    "    n //= 10\n",
    "print(reverse)"
   ]
  },
  {
   "cell_type": "code",
   "execution_count": 40,
   "id": "appropriate-meaning",
   "metadata": {},
   "outputs": [
    {
     "name": "stdout",
     "output_type": "stream",
     "text": [
      "* \n",
      "* * \n",
      "* * * \n",
      "* * * * \n",
      "* * * * * \n"
     ]
    }
   ],
   "source": [
    "#Q(7(a))\n",
    "n = 5\n",
    "for i in range(n):\n",
    "    for j in range(i+1):\n",
    "        print(\"*\", end = \" \")\n",
    "    print()"
   ]
  },
  {
   "cell_type": "code",
   "execution_count": 44,
   "id": "complicated-crowd",
   "metadata": {},
   "outputs": [
    {
     "name": "stdout",
     "output_type": "stream",
     "text": [
      "1 \n",
      "1 2 \n",
      "1 2 3 \n",
      "1 2 3 4 \n",
      "1 2 3 4 5 \n"
     ]
    }
   ],
   "source": [
    "#Q(7(b))\n",
    "n = 5\n",
    "for i in range(n):\n",
    "    for j in range(i+1):\n",
    "        print(j+1, end = \" \")\n",
    "    print()"
   ]
  },
  {
   "cell_type": "code",
   "execution_count": 31,
   "id": "square-thunder",
   "metadata": {},
   "outputs": [
    {
     "name": "stdout",
     "output_type": "stream",
     "text": [
      "        1         \n",
      "      1 2 1       \n",
      "    1 2 3 2 1     \n",
      "  1 2 3 4 3 2 1   \n",
      "1 2 3 4 5 4 3 2 1 \n"
     ]
    }
   ],
   "source": [
    "#Q(7(c))\n",
    "n = 5\n",
    "row = 0\n",
    "while row < n:\n",
    "    col = 0\n",
    "    col_mirror = 0\n",
    "    count = 1\n",
    "    while col_mirror < (2 * n) - 1:\n",
    "        if col >= n-1-row:\n",
    "            print(count, end = \" \")\n",
    "            count += 1\n",
    "        else:\n",
    "            print(\" \", end = \" \")\n",
    "            \n",
    "        if col_mirror < n-1:\n",
    "            col += 1\n",
    "        else:\n",
    "            col -= 1\n",
    "            count -= 2\n",
    "        col_mirror += 1\n",
    "    print()\n",
    "    row += 1"
   ]
  },
  {
   "cell_type": "code",
   "execution_count": 37,
   "id": "molecular-sessions",
   "metadata": {},
   "outputs": [
    {
     "name": "stdout",
     "output_type": "stream",
     "text": [
      "        1         \n",
      "      2 3 2       \n",
      "    3 4 5 4 3     \n",
      "  4 5 6 7 6 5 4   \n",
      "5 6 7 8 9 8 7 6 5 \n"
     ]
    }
   ],
   "source": [
    "#Q7(d)\n",
    "n = 5\n",
    "row = 0\n",
    "\n",
    "while row < n:\n",
    "    col = 0\n",
    "    col_mirror = 0\n",
    "    count = row + 1\n",
    "    while col_mirror < (2*n)-1:\n",
    "        if col >= n-row-1:\n",
    "            print(count, end = \" \")\n",
    "            count += 1\n",
    "        else:\n",
    "            print(\" \", end = \" \")\n",
    "            \n",
    "        if col_mirror < n-1:\n",
    "            col += 1\n",
    "        else:\n",
    "            col -= 1\n",
    "            count -= 2\n",
    "        col_mirror += 1\n",
    "    row += 1\n",
    "    print()"
   ]
  },
  {
   "cell_type": "code",
   "execution_count": 40,
   "id": "selective-wyoming",
   "metadata": {},
   "outputs": [
    {
     "name": "stdout",
     "output_type": "stream",
     "text": [
      "1 \n",
      "1 1 \n",
      "1 2 1 \n",
      "1 3 3 1 \n",
      "1 4 6 4 1 \n"
     ]
    }
   ],
   "source": [
    "#Q7(e)\n",
    "n = 5\n",
    "from math import factorial\n",
    "row = 0\n",
    "while row < n:\n",
    "    col = 0\n",
    "    while col <= row:\n",
    "        x = factorial(row)//(factorial(col)*factorial(row-col))\n",
    "        print(x, end = \" \")\n",
    "        col += 1\n",
    "    print()\n",
    "    row += 1"
   ]
  },
  {
   "cell_type": "code",
   "execution_count": 43,
   "id": "psychological-powell",
   "metadata": {},
   "outputs": [
    {
     "name": "stdout",
     "output_type": "stream",
     "text": [
      "        *         \n",
      "      * * *       \n",
      "    * * * * *     \n",
      "  * * * * * * *   \n",
      "* * * * * * * * * \n",
      "  * * * * * * *   \n",
      "    * * * * *     \n",
      "      * * *       \n",
      "        *         \n"
     ]
    }
   ],
   "source": [
    "#Q7(f)\n",
    "n = 5\n",
    "row = 0\n",
    "row_mirror = 0\n",
    "while row_mirror < 2*n -1:\n",
    "    col = 0\n",
    "    col_mirror = 0\n",
    "    while col_mirror < 2*n - 1:\n",
    "        if col >= n - row - 1:\n",
    "            print(\"*\", end = \" \")\n",
    "        else:\n",
    "            print(\" \", end = \" \")\n",
    "            \n",
    "        if col_mirror < n - 1:\n",
    "            col += 1\n",
    "        else:\n",
    "            col -= 1\n",
    "        col_mirror += 1\n",
    "    if row_mirror < n - 1:\n",
    "        row += 1\n",
    "    else:\n",
    "        row -= 1\n",
    "    row_mirror += 1\n",
    "    print()"
   ]
  },
  {
   "cell_type": "code",
   "execution_count": 51,
   "id": "dental-maryland",
   "metadata": {},
   "outputs": [
    {
     "name": "stdout",
     "output_type": "stream",
     "text": [
      "*                   * \n",
      "* *               * * \n",
      "* * *           * * * \n",
      "* * * *       * * * * \n",
      "* * * * *   * * * * * \n",
      "* * * *       * * * * \n",
      "* * *           * * * \n",
      "* *               * * \n",
      "*                   * \n"
     ]
    }
   ],
   "source": [
    "#Q7(g)\n",
    "n = 5\n",
    "row = 0\n",
    "row_mirror = 0\n",
    "while row_mirror < 2*n -1:\n",
    "    col = 0\n",
    "    col_mirror = 0\n",
    "    while col_mirror < 2*n + 1:\n",
    "        if col <= row:\n",
    "            print(\"*\", end = \" \")\n",
    "        else:\n",
    "            print(\" \",end = \" \")\n",
    "            \n",
    "        if col_mirror <= n - 1:\n",
    "            col += 1\n",
    "        else:\n",
    "            col -= 1\n",
    "        col_mirror += 1\n",
    "    if row_mirror < n - 1:\n",
    "        row += 1\n",
    "    else:\n",
    "        row -= 1\n",
    "    row_mirror += 1\n",
    "    print()"
   ]
  },
  {
   "cell_type": "code",
   "execution_count": 55,
   "id": "weekly-parameter",
   "metadata": {},
   "outputs": [
    {
     "name": "stdout",
     "output_type": "stream",
     "text": [
      "* * * * * * * * * \n",
      "* * * *   * * * * \n",
      "* * *       * * * \n",
      "* *           * * \n",
      "*               * \n",
      "* *           * * \n",
      "* * *       * * * \n",
      "* * * *   * * * * \n",
      "* * * * * * * * * \n"
     ]
    }
   ],
   "source": [
    "#Q7(h)\n",
    "n = 5\n",
    "row = 0\n",
    "row_mirror = 0\n",
    "while row_mirror < 2*n -1:\n",
    "    col = 0\n",
    "    col_mirror = 0\n",
    "    while col_mirror < 2*n - 1:\n",
    "        if col > n - row - 1:\n",
    "            print(\" \", end = \" \")\n",
    "        else:\n",
    "            print(\"*\",end = \" \")\n",
    "            \n",
    "        if col_mirror < n - 1:\n",
    "            col += 1\n",
    "        else:\n",
    "            col -= 1\n",
    "        col_mirror += 1\n",
    "    if row_mirror < n - 1:\n",
    "        row += 1\n",
    "    else:\n",
    "        row -= 1\n",
    "    row_mirror += 1\n",
    "    print()"
   ]
  },
  {
   "cell_type": "code",
   "execution_count": 60,
   "id": "stable-fight",
   "metadata": {},
   "outputs": [
    {
     "name": "stdout",
     "output_type": "stream",
     "text": [
      "5 5 5 5 5 5 5 5 5 \n",
      "5 4 4 4 4 4 4 4 5 \n",
      "5 4 3 3 3 3 3 4 5 \n",
      "5 4 3 2 2 2 3 4 5 \n",
      "5 4 3 2 1 2 3 4 5 \n",
      "5 4 3 2 2 2 3 4 5 \n",
      "5 4 3 3 3 3 3 4 5 \n",
      "5 4 4 4 4 4 4 4 5 \n",
      "5 5 5 5 5 5 5 5 5 \n"
     ]
    }
   ],
   "source": [
    "#Q7(i)\n",
    "n = 5\n",
    "row = 0\n",
    "N = 2 *n - 1\n",
    "while row < 2*n - 1:\n",
    "    col = 0\n",
    "    while col < 2*n - 1:\n",
    "        print(n - min(row, col, N-row-1, N-col-1), end = \" \")\n",
    "        col += 1\n",
    "    print()\n",
    "    row += 1"
   ]
  },
  {
   "cell_type": "code",
   "execution_count": null,
   "id": "fitted-intervention",
   "metadata": {},
   "outputs": [],
   "source": []
  }
 ],
 "metadata": {
  "kernelspec": {
   "display_name": "Python 3",
   "language": "python",
   "name": "python3"
  },
  "language_info": {
   "codemirror_mode": {
    "name": "ipython",
    "version": 3
   },
   "file_extension": ".py",
   "mimetype": "text/x-python",
   "name": "python",
   "nbconvert_exporter": "python",
   "pygments_lexer": "ipython3",
   "version": "3.9.1"
  }
 },
 "nbformat": 4,
 "nbformat_minor": 5
}
